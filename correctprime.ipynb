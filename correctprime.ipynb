{
 "cells": [
  {
   "cell_type": "code",
   "execution_count": 1,
   "metadata": {},
   "outputs": [
    {
     "name": "stdout",
     "output_type": "stream",
     "text": [
      "Super-Primes less than or equal to 241 are:\n",
      "2 3 5 7 11 13 17 19 23 29 31 37 41 43 47 53 59 61 67 71 73 79 83 89 97 101 103 107 109 113 127 131 137 139 149 151 157 163 167 173 179 181 191 193 197 199 211 223 227 229 233 239 241 "
     ]
    }
   ],
   "source": [
    "def sieve_of_eratosthenes(n):\n",
    "    isPrime = [True] * (n + 1)\n",
    "    isPrime[0] = isPrime[1] = False\n",
    "\n",
    "    for p in range(2, n + 1):\n",
    "        if p * p <= n and isPrime[p]:\n",
    "            for i in range(p * 2, n + 1, p):\n",
    "                isPrime[i] = False\n",
    "\n",
    "    return isPrime\n",
    "\n",
    "def superPrimes(n):\n",
    "    isPrime = sieve_of_eratosthenes(n)\n",
    "    primes = [p for p in range(2, n + 1) if isPrime[p]]\n",
    "    \n",
    "    for prime in primes:\n",
    "        if isPrime[prime]:\n",
    "            print(prime, end=\" \")\n",
    "    \n",
    "n = 241\n",
    "print(\"Super-Primes less than or equal to\", n, \"are:\")\n",
    "superPrimes(n)\n"
   ]
  }
 ],
 "metadata": {
  "kernelspec": {
   "display_name": "Python 3",
   "language": "python",
   "name": "python3"
  },
  "language_info": {
   "codemirror_mode": {
    "name": "ipython",
    "version": 3
   },
   "file_extension": ".py",
   "mimetype": "text/x-python",
   "name": "python",
   "nbconvert_exporter": "python",
   "pygments_lexer": "ipython3",
   "version": "3.9.2"
  },
  "orig_nbformat": 4
 },
 "nbformat": 4,
 "nbformat_minor": 2
}
